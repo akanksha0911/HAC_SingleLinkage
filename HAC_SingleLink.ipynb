{
  "nbformat": 4,
  "nbformat_minor": 0,
  "metadata": {
    "colab": {
      "name": "HAC-SingleLink.ipynb",
      "provenance": [],
      "collapsed_sections": [],
      "authorship_tag": "ABX9TyM+8jRjfSawCfxzXPs0I6tL",
      "include_colab_link": true
    },
    "kernelspec": {
      "name": "python3",
      "display_name": "Python 3"
    },
    "language_info": {
      "name": "python"
    }
  },
  "cells": [
    {
      "cell_type": "markdown",
      "metadata": {
        "id": "view-in-github",
        "colab_type": "text"
      },
      "source": [
        "<a href=\"https://colab.research.google.com/github/akanksha0911/HAC_SingleLinkage/blob/main/HAC_SingleLink.ipynb\" target=\"_parent\"><img src=\"https://colab.research.google.com/assets/colab-badge.svg\" alt=\"Open In Colab\"/></a>"
      ]
    },
    {
      "cell_type": "markdown",
      "metadata": {
        "id": "4_AiAlRlf-1Y"
      },
      "source": [
        "**Import Libs and create the data frame from given points in assignment**"
      ]
    },
    {
      "cell_type": "code",
      "metadata": {
        "colab": {
          "base_uri": "https://localhost:8080/"
        },
        "id": "2dwf4Mu-chCb",
        "outputId": "7b96b200-4e33-4c35-9906-d5c593701620"
      },
      "source": [
        "import pandas as pd\n",
        "import numpy as np\n",
        "import matplotlib.pyplot as plt\n",
        "%matplotlib inline\n",
        "import scipy.cluster.hierarchy as shc\n",
        "from scipy.cluster.hierarchy import dendrogram, linkage\n",
        "from sklearn.cluster import AgglomerativeClustering\n",
        "\n",
        "array = np.array([[2,2], [2,6], [3,7], [5,2], [5,5], [5,8], [6,6], [7,3], [8,4], [10,6], [12,8]])\n",
        "\n",
        "point = ['P1','P2','P3','P4','P5','P6','P7','P8','P9','P10', 'P11']\n",
        "\n",
        "data = pd.DataFrame(data=array, index=point, columns=[\"X\", \"Y\"])\n",
        "print(data)"
      ],
      "execution_count": 5,
      "outputs": [
        {
          "output_type": "stream",
          "name": "stdout",
          "text": [
            "      X  Y\n",
            "P1    2  2\n",
            "P2    2  6\n",
            "P3    3  7\n",
            "P4    5  2\n",
            "P5    5  5\n",
            "P6    5  8\n",
            "P7    6  6\n",
            "P8    7  3\n",
            "P9    8  4\n",
            "P10  10  6\n",
            "P11  12  8\n"
          ]
        }
      ]
    },
    {
      "cell_type": "markdown",
      "metadata": {
        "id": "cCQ-Ar0v7-Bz"
      },
      "source": [
        "**Visualize the data using a Scatter Plot**"
      ]
    },
    {
      "cell_type": "code",
      "metadata": {
        "colab": {
          "base_uri": "https://localhost:8080/",
          "height": 458
        },
        "id": "h2ErYbYbd6F_",
        "outputId": "46d1b5c5-e489-4af3-b02d-4bb6ee844208"
      },
      "source": [
        "plt.figure(figsize=(10,7))\n",
        "plt.scatter(data['X'], data['Y'], s=80, c='r', marker='*')\n",
        "plt.xlabel('Column X')\n",
        "plt.ylabel('column Y')\n",
        "plt.title('Scatter Plot of X and Y')\n",
        "for j in data.itertuples():\n",
        "    plt.annotate(j.Index, (j.X, j.Y), fontsize=15)"
      ],
      "execution_count": 6,
      "outputs": [
        {
          "output_type": "display_data",
          "data": {
            "image/png": "[encoded data removed]",
            "text/plain": [
              "<Figure size 720x504 with 1 Axes>"
            ]
          },
          "metadata": {
            "needs_background": "light"
          }
        }
      ]
    },
    {
      "cell_type": "markdown",
      "metadata": {
        "id": "AKjYoN1F9kqm"
      },
      "source": [
        "**Calculating the distance matrix in Euclidean method using pdist**"
      ]
    },
    {
      "cell_type": "code",
      "metadata": {
        "colab": {
          "base_uri": "https://localhost:8080/",
          "height": 394
        },
        "id": "EM2rT27U9j3y",
        "outputId": "2754b357-a461-40bf-c104-c5673741d56e"
      },
      "source": [
        "from scipy.spatial.distance import squareform, pdist\n",
        "dist = pd.DataFrame(squareform(pdist(data[['X', 'Y']]), 'euclidean'), columns=data.index.values, index=data.index.values)\n",
        "dist"
      ],
      "execution_count": 15,
      "outputs": [
        {
          "output_type": "execute_result",
          "data": {
            "text/html": [
              "<div>\n",
              "<style scoped>\n",
              "    .dataframe tbody tr th:only-of-type {\n",
              "        vertical-align: middle;\n",
              "    }\n",
              "\n",
              "    .dataframe tbody tr th {\n",
              "        vertical-align: top;\n",
              "    }\n",
              "\n",
              "    .dataframe thead th {\n",
              "        text-align: right;\n",
              "    }\n",
              "</style>\n",
              "<table border=\"1\" class=\"dataframe\">\n",
              "  <thead>\n",
              "    <tr style=\"text-align: right;\">\n",
              "      <th></th>\n",
              "      <th>P1</th>\n",
              "      <th>P2</th>\n",
              "      <th>P3</th>\n",
              "      <th>P4</th>\n",
              "      <th>P5</th>\n",
              "      <th>P6</th>\n",
              "      <th>P7</th>\n",
              "      <th>P8</th>\n",
              "      <th>P9</th>\n",
              "      <th>P10</th>\n",
              "      <th>P11</th>\n",
              "    </tr>\n",
              "  </thead>\n",
              "  <tbody>\n",
              "    <tr>\n",
              "      <th>P1</th>\n",
              "      <td>0.000000</td>\n",
              "      <td>4.000000</td>\n",
              "      <td>5.099020</td>\n",
              "      <td>3.000000</td>\n",
              "      <td>4.242641</td>\n",
              "      <td>6.708204</td>\n",
              "      <td>5.656854</td>\n",
              "      <td>5.099020</td>\n",
              "      <td>6.324555</td>\n",
              "      <td>8.944272</td>\n",
              "      <td>11.661904</td>\n",
              "    </tr>\n",
              "    <tr>\n",
              "      <th>P2</th>\n",
              "      <td>4.000000</td>\n",
              "      <td>0.000000</td>\n",
              "      <td>1.414214</td>\n",
              "      <td>5.000000</td>\n",
              "      <td>3.162278</td>\n",
              "      <td>3.605551</td>\n",
              "      <td>4.000000</td>\n",
              "      <td>5.830952</td>\n",
              "      <td>6.324555</td>\n",
              "      <td>8.000000</td>\n",
              "      <td>10.198039</td>\n",
              "    </tr>\n",
              "    <tr>\n",
              "      <th>P3</th>\n",
              "      <td>5.099020</td>\n",
              "      <td>1.414214</td>\n",
              "      <td>0.000000</td>\n",
              "      <td>5.385165</td>\n",
              "      <td>2.828427</td>\n",
              "      <td>2.236068</td>\n",
              "      <td>3.162278</td>\n",
              "      <td>5.656854</td>\n",
              "      <td>5.830952</td>\n",
              "      <td>7.071068</td>\n",
              "      <td>9.055385</td>\n",
              "    </tr>\n",
              "    <tr>\n",
              "      <th>P4</th>\n",
              "      <td>3.000000</td>\n",
              "      <td>5.000000</td>\n",
              "      <td>5.385165</td>\n",
              "      <td>0.000000</td>\n",
              "      <td>3.000000</td>\n",
              "      <td>6.000000</td>\n",
              "      <td>4.123106</td>\n",
              "      <td>2.236068</td>\n",
              "      <td>3.605551</td>\n",
              "      <td>6.403124</td>\n",
              "      <td>9.219544</td>\n",
              "    </tr>\n",
              "    <tr>\n",
              "      <th>P5</th>\n",
              "      <td>4.242641</td>\n",
              "      <td>3.162278</td>\n",
              "      <td>2.828427</td>\n",
              "      <td>3.000000</td>\n",
              "      <td>0.000000</td>\n",
              "      <td>3.000000</td>\n",
              "      <td>1.414214</td>\n",
              "      <td>2.828427</td>\n",
              "      <td>3.162278</td>\n",
              "      <td>5.099020</td>\n",
              "      <td>7.615773</td>\n",
              "    </tr>\n",
              "    <tr>\n",
              "      <th>P6</th>\n",
              "      <td>6.708204</td>\n",
              "      <td>3.605551</td>\n",
              "      <td>2.236068</td>\n",
              "      <td>6.000000</td>\n",
              "      <td>3.000000</td>\n",
              "      <td>0.000000</td>\n",
              "      <td>2.236068</td>\n",
              "      <td>5.385165</td>\n",
              "      <td>5.000000</td>\n",
              "      <td>5.385165</td>\n",
              "      <td>7.000000</td>\n",
              "    </tr>\n",
              "    <tr>\n",
              "      <th>P7</th>\n",
              "      <td>5.656854</td>\n",
              "      <td>4.000000</td>\n",
              "      <td>3.162278</td>\n",
              "      <td>4.123106</td>\n",
              "      <td>1.414214</td>\n",
              "      <td>2.236068</td>\n",
              "      <td>0.000000</td>\n",
              "      <td>3.162278</td>\n",
              "      <td>2.828427</td>\n",
              "      <td>4.000000</td>\n",
              "      <td>6.324555</td>\n",
              "    </tr>\n",
              "    <tr>\n",
              "      <th>P8</th>\n",
              "      <td>5.099020</td>\n",
              "      <td>5.830952</td>\n",
              "      <td>5.656854</td>\n",
              "      <td>2.236068</td>\n",
              "      <td>2.828427</td>\n",
              "      <td>5.385165</td>\n",
              "      <td>3.162278</td>\n",
              "      <td>0.000000</td>\n",
              "      <td>1.414214</td>\n",
              "      <td>4.242641</td>\n",
              "      <td>7.071068</td>\n",
              "    </tr>\n",
              "    <tr>\n",
              "      <th>P9</th>\n",
              "      <td>6.324555</td>\n",
              "      <td>6.324555</td>\n",
              "      <td>5.830952</td>\n",
              "      <td>3.605551</td>\n",
              "      <td>3.162278</td>\n",
              "      <td>5.000000</td>\n",
              "      <td>2.828427</td>\n",
              "      <td>1.414214</td>\n",
              "      <td>0.000000</td>\n",
              "      <td>2.828427</td>\n",
              "      <td>5.656854</td>\n",
              "    </tr>\n",
              "    <tr>\n",
              "      <th>P10</th>\n",
              "      <td>8.944272</td>\n",
              "      <td>8.000000</td>\n",
              "      <td>7.071068</td>\n",
              "      <td>6.403124</td>\n",
              "      <td>5.099020</td>\n",
              "      <td>5.385165</td>\n",
              "      <td>4.000000</td>\n",
              "      <td>4.242641</td>\n",
              "      <td>2.828427</td>\n",
              "      <td>0.000000</td>\n",
              "      <td>2.828427</td>\n",
              "    </tr>\n",
              "    <tr>\n",
              "      <th>P11</th>\n",
              "      <td>11.661904</td>\n",
              "      <td>10.198039</td>\n",
              "      <td>9.055385</td>\n",
              "      <td>9.219544</td>\n",
              "      <td>7.615773</td>\n",
              "      <td>7.000000</td>\n",
              "      <td>6.324555</td>\n",
              "      <td>7.071068</td>\n",
              "      <td>5.656854</td>\n",
              "      <td>2.828427</td>\n",
              "      <td>0.000000</td>\n",
              "    </tr>\n",
              "  </tbody>\n",
              "</table>\n",
              "</div>"
            ],
            "text/plain": [
              "            P1         P2        P3  ...        P9       P10        P11\n",
              "P1    0.000000   4.000000  5.099020  ...  6.324555  8.944272  11.661904\n",
              "P2    4.000000   0.000000  1.414214  ...  6.324555  8.000000  10.198039\n",
              "P3    5.099020   1.414214  0.000000  ...  5.830952  7.071068   9.055385\n",
              "P4    3.000000   5.000000  5.385165  ...  3.605551  6.403124   9.219544\n",
              "P5    4.242641   3.162278  2.828427  ...  3.162278  5.099020   7.615773\n",
              "P6    6.708204   3.605551  2.236068  ...  5.000000  5.385165   7.000000\n",
              "P7    5.656854   4.000000  3.162278  ...  2.828427  4.000000   6.324555\n",
              "P8    5.099020   5.830952  5.656854  ...  1.414214  4.242641   7.071068\n",
              "P9    6.324555   6.324555  5.830952  ...  0.000000  2.828427   5.656854\n",
              "P10   8.944272   8.000000  7.071068  ...  2.828427  0.000000   2.828427\n",
              "P11  11.661904  10.198039  9.055385  ...  5.656854  2.828427   0.000000\n",
              "\n",
              "[11 rows x 11 columns]"
            ]
          },
          "metadata": {},
          "execution_count": 15
        }
      ]
    },
    {
      "cell_type": "markdown",
      "metadata": {
        "id": "vw_ijFBX_UKG"
      },
      "source": [
        "**Look for the least distance and merge those into a cluster**"
      ]
    },
    {
      "cell_type": "markdown",
      "metadata": {
        "id": "7ricPT5ggRcD"
      },
      "source": [
        "here we see 1.414214 is the smallest distance [P3,P2] [P5,P7] [P8,P9] , and P2 and P3 comes first in matrix so merging P2 and P3, then find minimum distance from cluster to other points and form new distance matrix.\n"
      ]
    },
    {
      "cell_type": "code",
      "metadata": {
        "colab": {
          "base_uri": "https://localhost:8080/",
          "height": 339
        },
        "id": "4nELCXHW_XgV",
        "outputId": "3c3ea6ef-7549-4d45-877e-169d9ff8fa79"
      },
      "source": [
        "plt.figure(figsize=(12,5)) \n",
        "plt.title(\"Dendrogram with Single inkage\")  \n",
        "dend = shc.dendrogram(shc.linkage(data[['X', 'Y']], method='single'), labels=data.index)"
      ],
      "execution_count": 16,
      "outputs": [
        {
          "output_type": "display_data",
          "data": {
            "image/png": "[encoded data removed]",
            "text/plain": [
              "<Figure size 864x360 with 1 Axes>"
            ]
          },
          "metadata": {
            "needs_background": "light"
          }
        }
      ]
    },
    {
      "cell_type": "code",
      "metadata": {
        "colab": {
          "base_uri": "https://localhost:8080/",
          "height": 339
        },
        "id": "DtAtRoonPMcT",
        "outputId": "c42f0159-3f59-4e86-98ec-819c5191a9cd"
      },
      "source": [
        "plt.figure(figsize=(12,5)) \n",
        "plt.title(\"Dendrogram with average inkage\")  \n",
        "dend = shc.dendrogram(shc.linkage(data[['X', 'Y']], method='average'), labels=data.index)"
      ],
      "execution_count": 17,
      "outputs": [
        {
          "output_type": "display_data",
          "data": {
            "image/png": "[encoded data removed]",
            "text/plain": [
              "<Figure size 864x360 with 1 Axes>"
            ]
          },
          "metadata": {
            "needs_background": "light"
          }
        }
      ]
    },
    {
      "cell_type": "code",
      "metadata": {
        "colab": {
          "base_uri": "https://localhost:8080/",
          "height": 339
        },
        "id": "CBEVm6V0PWNg",
        "outputId": "857d4dd5-56de-401f-a401-14070dcb039b"
      },
      "source": [
        "plt.figure(figsize=(12,5)) \n",
        "plt.title(\"Dendrogram with complete inkage\")  \n",
        "dend = shc.dendrogram(shc.linkage(data[['X', 'Y']], method='complete'), labels=data.index)"
      ],
      "execution_count": 18,
      "outputs": [
        {
          "output_type": "display_data",
          "data": {
            "image/png": "[encoded data removed]",
            "text/plain": [
              "<Figure size 864x360 with 1 Axes>"
            ]
          },
          "metadata": {
            "needs_background": "light"
          }
        }
      ]
    },
    {
      "cell_type": "code",
      "metadata": {
        "colab": {
          "base_uri": "https://localhost:8080/",
          "height": 497
        },
        "id": "NIq8bdT8I1Uu",
        "outputId": "4f04bc27-e3dc-4062-ccc1-d493dab858fe"
      },
      "source": [
        "cluster1=AgglomerativeClustering(n_clusters=3, affinity='euclidean', linkage='single')\n",
        "print(cluster1.fit_predict(data))\n",
        "print(cluster1.fit(data))\n",
        "labels = cluster1.labels_\n",
        "plt.figure(figsize=(10, 7)) \n",
        "plt.scatter(data['X'], data['Y'], c=labels, s=80, cmap ='rainbow')\n",
        "\n",
        "plt.show()\n"
      ],
      "execution_count": 19,
      "outputs": [
        {
          "output_type": "stream",
          "name": "stdout",
          "text": [
            "[1 0 0 0 0 0 0 0 0 0 2]\n",
            "AgglomerativeClustering(affinity='euclidean', compute_full_tree='auto',\n",
            "                        connectivity=None, distance_threshold=None,\n",
            "                        linkage='single', memory=None, n_clusters=3)\n"
          ]
        },
        {
          "output_type": "display_data",
          "data": {
            "image/png": "[encoded data removed]",
            "text/plain": [
              "<Figure size 720x504 with 1 Axes>"
            ]
          },
          "metadata": {
            "needs_background": "light"
          }
        }
      ]
    },
    {
      "cell_type": "code",
      "metadata": {
        "colab": {
          "base_uri": "https://localhost:8080/",
          "height": 497
        },
        "id": "Fg7P0HFUU8Fq",
        "outputId": "f2f1a28e-b0b0-4ed8-d238-c10617df4d1c"
      },
      "source": [
        "cluster2 = AgglomerativeClustering(n_clusters=3, affinity='euclidean', linkage='average') \n",
        "print(cluster2.fit_predict(data))\n",
        "print(cluster2.fit(data))\n",
        "plt.figure(figsize=(10, 7))  \n",
        "plt.scatter(data['X'], data['Y'], c=cluster2.labels_, s= 80, cmap='rainbow')  \n",
        "plt.show() "
      ],
      "execution_count": 20,
      "outputs": [
        {
          "output_type": "stream",
          "name": "stdout",
          "text": [
            "[2 0 0 0 0 0 0 0 0 1 1]\n",
            "AgglomerativeClustering(affinity='euclidean', compute_full_tree='auto',\n",
            "                        connectivity=None, distance_threshold=None,\n",
            "                        linkage='average', memory=None, n_clusters=3)\n"
          ]
        },
        {
          "output_type": "display_data",
          "data": {
            "image/png": "[encoded data removed]",
            "text/plain": [
              "<Figure size 720x504 with 1 Axes>"
            ]
          },
          "metadata": {
            "needs_background": "light"
          }
        }
      ]
    },
    {
      "cell_type": "code",
      "metadata": {
        "colab": {
          "base_uri": "https://localhost:8080/",
          "height": 497
        },
        "id": "FhlFcwAGWiZe",
        "outputId": "721d895c-c0ad-48d9-a19d-e708aa1d477b"
      },
      "source": [
        "cluster3 = AgglomerativeClustering(n_clusters=3, affinity='euclidean', linkage='complete') \n",
        "print(cluster3.fit_predict(data))\n",
        "print(cluster3.fit(data))\n",
        "plt.figure(figsize=(10, 7))  \n",
        "plt.scatter(data['X'], data['Y'], c=cluster3.labels_, s=80, cmap='rainbow')  \n",
        "plt.show() "
      ],
      "execution_count": 21,
      "outputs": [
        {
          "output_type": "stream",
          "name": "stdout",
          "text": [
            "[0 2 2 0 2 2 2 0 0 1 1]\n",
            "AgglomerativeClustering(affinity='euclidean', compute_full_tree='auto',\n",
            "                        connectivity=None, distance_threshold=None,\n",
            "                        linkage='complete', memory=None, n_clusters=3)\n"
          ]
        },
        {
          "output_type": "display_data",
          "data": {
            "image/png": "[encoded data removed]",
            "text/plain": [
              "<Figure size 720x504 with 1 Axes>"
            ]
          },
          "metadata": {
            "needs_background": "light"
          }
        }
      ]
    },
    {
      "cell_type": "code",
      "metadata": {
        "colab": {
          "base_uri": "https://localhost:8080/",
          "height": 288
        },
        "id": "BxPqMPWaXhNB",
        "outputId": "487c65a6-dd09-47d2-a6f6-d552c65df9b9"
      },
      "source": [
        "from sklearn.metrics import silhouette_score\n",
        "\n",
        "c = ['single', 'average', 'complete']\n",
        "silhouette_scores = []\n",
        "silhouette_scores.append(\n",
        "        silhouette_score(data, cluster1.fit_predict(data)))\n",
        "silhouette_scores.append(\n",
        "        silhouette_score(data, cluster2.fit_predict(data)))\n",
        "silhouette_scores.append(\n",
        "        silhouette_score(data, cluster3.fit_predict(data)))\n",
        "\n",
        "silhouette_scores\n",
        "# # Plotting a bar graph to compare the results\n",
        "plt.bar(c, silhouette_scores)\n",
        "plt.xlabel('different linkage clusters', fontsize = 20)\n",
        "plt.ylabel('S(i)', fontsize = 20)\n",
        "plt.show()"
      ],
      "execution_count": 22,
      "outputs": [
        {
          "output_type": "display_data",
          "data": {
            "image/png": "[encoded data removed]",
            "text/plain": [
              "<Figure size 432x288 with 1 Axes>"
            ]
          },
          "metadata": {
            "needs_background": "light"
          }
        }
      ]
    }
  ]
}