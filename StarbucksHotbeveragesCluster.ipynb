{
  "nbformat": 4,
  "nbformat_minor": 0,
  "metadata": {
    "colab": {
      "name": "StarbucksHotbeveragesCluster.ipynb",
      "provenance": [],
      "collapsed_sections": [],
      "authorship_tag": "ABX9TyNZ97wHEYvYnU88lzvUqdmO",
      "include_colab_link": true
    },
    "kernelspec": {
      "name": "python3",
      "display_name": "Python 3"
    },
    "language_info": {
      "name": "python"
    }
  },
  "cells": [
    {
      "cell_type": "markdown",
      "metadata": {
        "id": "view-in-github",
        "colab_type": "text"
      },
      "source": [
        "<a href=\"https://colab.research.google.com/github/akanksha0911/HAC_SingleLinkage/blob/main/StarbucksHotbeveragesCluster.ipynb\" target=\"_parent\"><img src=\"https://colab.research.google.com/assets/colab-badge.svg\" alt=\"Open In Colab\"/></a>"
      ]
    },
    {
      "cell_type": "markdown",
      "metadata": {
        "id": "4_AiAlRlf-1Y"
      },
      "source": [
        "**Import Libs and create the data frame with PTIndex and HBIndex points in assignment**"
      ]
    },
    {
      "cell_type": "code",
      "metadata": {
        "colab": {
          "base_uri": "https://localhost:8080/",
          "height": 645
        },
        "id": "2dwf4Mu-chCb",
        "outputId": "210f96b3-e8ab-456c-a9eb-e5d429db05f4"
      },
      "source": [
        "\n",
        "import pandas as pd\n",
        "import numpy as np\n",
        "import matplotlib.pyplot as plt\n",
        "%matplotlib inline\n",
        "import scipy.cluster.hierarchy as shc\n",
        "from scipy.cluster.hierarchy import dendrogram, linkage\n",
        "from sklearn.cluster import AgglomerativeClustering\n",
        "\n",
        "\n",
        "point = ['A1','A2','B1','B2','C1','C2','C3','C4','D1','D2', 'E1', \n",
        "         'E2', 'F1', 'G1', 'G2', 'G3', 'H1', 'H2']\n",
        "data = pd.DataFrame({'Point':point, 'PopularTimes':np.array([1, 1, 2, 2, 3, 3, 3, 3, 4, 4, 5, 5, 6, 7, 7, 7, 8, 8]),\n",
        "                     'HotBeverages':np.array([5, 7, 6, 9, 6, 8, 9, 3, 8, 5, 4, 7, 9, 3, 9, 2, 1, 7])})\n",
        "data = data.set_index('Point')\n",
        "data"
      ],
      "execution_count": 1,
      "outputs": [
        {
          "output_type": "execute_result",
          "data": {
            "text/html": [
              "<div>\n",
              "<style scoped>\n",
              "    .dataframe tbody tr th:only-of-type {\n",
              "        vertical-align: middle;\n",
              "    }\n",
              "\n",
              "    .dataframe tbody tr th {\n",
              "        vertical-align: top;\n",
              "    }\n",
              "\n",
              "    .dataframe thead th {\n",
              "        text-align: right;\n",
              "    }\n",
              "</style>\n",
              "<table border=\"1\" class=\"dataframe\">\n",
              "  <thead>\n",
              "    <tr style=\"text-align: right;\">\n",
              "      <th></th>\n",
              "      <th>PopularTimes</th>\n",
              "      <th>HotBeverages</th>\n",
              "    </tr>\n",
              "    <tr>\n",
              "      <th>Point</th>\n",
              "      <th></th>\n",
              "      <th></th>\n",
              "    </tr>\n",
              "  </thead>\n",
              "  <tbody>\n",
              "    <tr>\n",
              "      <th>A1</th>\n",
              "      <td>1</td>\n",
              "      <td>5</td>\n",
              "    </tr>\n",
              "    <tr>\n",
              "      <th>A2</th>\n",
              "      <td>1</td>\n",
              "      <td>7</td>\n",
              "    </tr>\n",
              "    <tr>\n",
              "      <th>B1</th>\n",
              "      <td>2</td>\n",
              "      <td>6</td>\n",
              "    </tr>\n",
              "    <tr>\n",
              "      <th>B2</th>\n",
              "      <td>2</td>\n",
              "      <td>9</td>\n",
              "    </tr>\n",
              "    <tr>\n",
              "      <th>C1</th>\n",
              "      <td>3</td>\n",
              "      <td>6</td>\n",
              "    </tr>\n",
              "    <tr>\n",
              "      <th>C2</th>\n",
              "      <td>3</td>\n",
              "      <td>8</td>\n",
              "    </tr>\n",
              "    <tr>\n",
              "      <th>C3</th>\n",
              "      <td>3</td>\n",
              "      <td>9</td>\n",
              "    </tr>\n",
              "    <tr>\n",
              "      <th>C4</th>\n",
              "      <td>3</td>\n",
              "      <td>3</td>\n",
              "    </tr>\n",
              "    <tr>\n",
              "      <th>D1</th>\n",
              "      <td>4</td>\n",
              "      <td>8</td>\n",
              "    </tr>\n",
              "    <tr>\n",
              "      <th>D2</th>\n",
              "      <td>4</td>\n",
              "      <td>5</td>\n",
              "    </tr>\n",
              "    <tr>\n",
              "      <th>E1</th>\n",
              "      <td>5</td>\n",
              "      <td>4</td>\n",
              "    </tr>\n",
              "    <tr>\n",
              "      <th>E2</th>\n",
              "      <td>5</td>\n",
              "      <td>7</td>\n",
              "    </tr>\n",
              "    <tr>\n",
              "      <th>F1</th>\n",
              "      <td>6</td>\n",
              "      <td>9</td>\n",
              "    </tr>\n",
              "    <tr>\n",
              "      <th>G1</th>\n",
              "      <td>7</td>\n",
              "      <td>3</td>\n",
              "    </tr>\n",
              "    <tr>\n",
              "      <th>G2</th>\n",
              "      <td>7</td>\n",
              "      <td>9</td>\n",
              "    </tr>\n",
              "    <tr>\n",
              "      <th>G3</th>\n",
              "      <td>7</td>\n",
              "      <td>2</td>\n",
              "    </tr>\n",
              "    <tr>\n",
              "      <th>H1</th>\n",
              "      <td>8</td>\n",
              "      <td>1</td>\n",
              "    </tr>\n",
              "    <tr>\n",
              "      <th>H2</th>\n",
              "      <td>8</td>\n",
              "      <td>7</td>\n",
              "    </tr>\n",
              "  </tbody>\n",
              "</table>\n",
              "</div>"
            ],
            "text/plain": [
              "       PopularTimes  HotBeverages\n",
              "Point                            \n",
              "A1                1             5\n",
              "A2                1             7\n",
              "B1                2             6\n",
              "B2                2             9\n",
              "C1                3             6\n",
              "C2                3             8\n",
              "C3                3             9\n",
              "C4                3             3\n",
              "D1                4             8\n",
              "D2                4             5\n",
              "E1                5             4\n",
              "E2                5             7\n",
              "F1                6             9\n",
              "G1                7             3\n",
              "G2                7             9\n",
              "G3                7             2\n",
              "H1                8             1\n",
              "H2                8             7"
            ]
          },
          "metadata": {},
          "execution_count": 1
        }
      ]
    },
    {
      "cell_type": "markdown",
      "metadata": {
        "id": "cCQ-Ar0v7-Bz"
      },
      "source": [
        "**Visualize the data using a Scatter Plot**"
      ]
    },
    {
      "cell_type": "code",
      "metadata": {
        "colab": {
          "base_uri": "https://localhost:8080/",
          "height": 458
        },
        "id": "h2ErYbYbd6F_",
        "outputId": "8319403f-907e-45a6-bbf0-75aa8e774534"
      },
      "source": [
        "plt.figure(figsize=(10,7))\n",
        "plt.scatter(data['PopularTimes'], data['HotBeverages'], s=80, c='r', marker='*')\n",
        "plt.xlabel('PTIndex')\n",
        "plt.ylabel('HBIndex')\n",
        "plt.title('Scatter Plot PTIndex vs HBIndex')\n",
        "for j in data.itertuples():\n",
        "    plt.annotate(j.Index, (j.PopularTimes, j.HotBeverages), fontsize=15)"
      ],
      "execution_count": 2,
      "outputs": [
        {
          "output_type": "display_data",
          "data": {
            "image/png": "[encoded data removed]",
            "text/plain": [
              "<Figure size 720x504 with 1 Axes>"
            ]
          },
          "metadata": {
            "needs_background": "light"
          }
        }
      ]
    },
    {
      "cell_type": "markdown",
      "metadata": {
        "id": "AKjYoN1F9kqm"
      },
      "source": [
        "**Calculating the distance matrix in Euclidean method using pdist**"
      ]
    },
    {
      "cell_type": "code",
      "metadata": {
        "colab": {
          "base_uri": "https://localhost:8080/",
          "height": 633
        },
        "id": "EM2rT27U9j3y",
        "outputId": "4facc806-2cf0-4f37-9efd-0f978027057d"
      },
      "source": [
        "from scipy.spatial.distance import squareform, pdist\n",
        "dist = pd.DataFrame(squareform(pdist(data[['PopularTimes', 'HotBeverages']]), 'euclidean'), columns=data.index.values, index=data.index.values)\n",
        "dist"
      ],
      "execution_count": 3,
      "outputs": [
        {
          "output_type": "execute_result",
          "data": {
            "text/html": [
              "<div>\n",
              "<style scoped>\n",
              "    .dataframe tbody tr th:only-of-type {\n",
              "        vertical-align: middle;\n",
              "    }\n",
              "\n",
              "    .dataframe tbody tr th {\n",
              "        vertical-align: top;\n",
              "    }\n",
              "\n",
              "    .dataframe thead th {\n",
              "        text-align: right;\n",
              "    }\n",
              "</style>\n",
              "<table border=\"1\" class=\"dataframe\">\n",
              "  <thead>\n",
              "    <tr style=\"text-align: right;\">\n",
              "      <th></th>\n",
              "      <th>A1</th>\n",
              "      <th>A2</th>\n",
              "      <th>B1</th>\n",
              "      <th>B2</th>\n",
              "      <th>C1</th>\n",
              "      <th>C2</th>\n",
              "      <th>C3</th>\n",
              "      <th>C4</th>\n",
              "      <th>D1</th>\n",
              "      <th>D2</th>\n",
              "      <th>E1</th>\n",
              "      <th>E2</th>\n",
              "      <th>F1</th>\n",
              "      <th>G1</th>\n",
              "      <th>G2</th>\n",
              "      <th>G3</th>\n",
              "      <th>H1</th>\n",
              "      <th>H2</th>\n",
              "    </tr>\n",
              "  </thead>\n",
              "  <tbody>\n",
              "    <tr>\n",
              "      <th>A1</th>\n",
              "      <td>0.000000</td>\n",
              "      <td>2.000000</td>\n",
              "      <td>1.414214</td>\n",
              "      <td>4.123106</td>\n",
              "      <td>2.236068</td>\n",
              "      <td>3.605551</td>\n",
              "      <td>4.472136</td>\n",
              "      <td>2.828427</td>\n",
              "      <td>4.242641</td>\n",
              "      <td>3.000000</td>\n",
              "      <td>4.123106</td>\n",
              "      <td>4.472136</td>\n",
              "      <td>6.403124</td>\n",
              "      <td>6.324555</td>\n",
              "      <td>7.211103</td>\n",
              "      <td>6.708204</td>\n",
              "      <td>8.062258</td>\n",
              "      <td>7.280110</td>\n",
              "    </tr>\n",
              "    <tr>\n",
              "      <th>A2</th>\n",
              "      <td>2.000000</td>\n",
              "      <td>0.000000</td>\n",
              "      <td>1.414214</td>\n",
              "      <td>2.236068</td>\n",
              "      <td>2.236068</td>\n",
              "      <td>2.236068</td>\n",
              "      <td>2.828427</td>\n",
              "      <td>4.472136</td>\n",
              "      <td>3.162278</td>\n",
              "      <td>3.605551</td>\n",
              "      <td>5.000000</td>\n",
              "      <td>4.000000</td>\n",
              "      <td>5.385165</td>\n",
              "      <td>7.211103</td>\n",
              "      <td>6.324555</td>\n",
              "      <td>7.810250</td>\n",
              "      <td>9.219544</td>\n",
              "      <td>7.000000</td>\n",
              "    </tr>\n",
              "    <tr>\n",
              "      <th>B1</th>\n",
              "      <td>1.414214</td>\n",
              "      <td>1.414214</td>\n",
              "      <td>0.000000</td>\n",
              "      <td>3.000000</td>\n",
              "      <td>1.000000</td>\n",
              "      <td>2.236068</td>\n",
              "      <td>3.162278</td>\n",
              "      <td>3.162278</td>\n",
              "      <td>2.828427</td>\n",
              "      <td>2.236068</td>\n",
              "      <td>3.605551</td>\n",
              "      <td>3.162278</td>\n",
              "      <td>5.000000</td>\n",
              "      <td>5.830952</td>\n",
              "      <td>5.830952</td>\n",
              "      <td>6.403124</td>\n",
              "      <td>7.810250</td>\n",
              "      <td>6.082763</td>\n",
              "    </tr>\n",
              "    <tr>\n",
              "      <th>B2</th>\n",
              "      <td>4.123106</td>\n",
              "      <td>2.236068</td>\n",
              "      <td>3.000000</td>\n",
              "      <td>0.000000</td>\n",
              "      <td>3.162278</td>\n",
              "      <td>1.414214</td>\n",
              "      <td>1.000000</td>\n",
              "      <td>6.082763</td>\n",
              "      <td>2.236068</td>\n",
              "      <td>4.472136</td>\n",
              "      <td>5.830952</td>\n",
              "      <td>3.605551</td>\n",
              "      <td>4.000000</td>\n",
              "      <td>7.810250</td>\n",
              "      <td>5.000000</td>\n",
              "      <td>8.602325</td>\n",
              "      <td>10.000000</td>\n",
              "      <td>6.324555</td>\n",
              "    </tr>\n",
              "    <tr>\n",
              "      <th>C1</th>\n",
              "      <td>2.236068</td>\n",
              "      <td>2.236068</td>\n",
              "      <td>1.000000</td>\n",
              "      <td>3.162278</td>\n",
              "      <td>0.000000</td>\n",
              "      <td>2.000000</td>\n",
              "      <td>3.000000</td>\n",
              "      <td>3.000000</td>\n",
              "      <td>2.236068</td>\n",
              "      <td>1.414214</td>\n",
              "      <td>2.828427</td>\n",
              "      <td>2.236068</td>\n",
              "      <td>4.242641</td>\n",
              "      <td>5.000000</td>\n",
              "      <td>5.000000</td>\n",
              "      <td>5.656854</td>\n",
              "      <td>7.071068</td>\n",
              "      <td>5.099020</td>\n",
              "    </tr>\n",
              "    <tr>\n",
              "      <th>C2</th>\n",
              "      <td>3.605551</td>\n",
              "      <td>2.236068</td>\n",
              "      <td>2.236068</td>\n",
              "      <td>1.414214</td>\n",
              "      <td>2.000000</td>\n",
              "      <td>0.000000</td>\n",
              "      <td>1.000000</td>\n",
              "      <td>5.000000</td>\n",
              "      <td>1.000000</td>\n",
              "      <td>3.162278</td>\n",
              "      <td>4.472136</td>\n",
              "      <td>2.236068</td>\n",
              "      <td>3.162278</td>\n",
              "      <td>6.403124</td>\n",
              "      <td>4.123106</td>\n",
              "      <td>7.211103</td>\n",
              "      <td>8.602325</td>\n",
              "      <td>5.099020</td>\n",
              "    </tr>\n",
              "    <tr>\n",
              "      <th>C3</th>\n",
              "      <td>4.472136</td>\n",
              "      <td>2.828427</td>\n",
              "      <td>3.162278</td>\n",
              "      <td>1.000000</td>\n",
              "      <td>3.000000</td>\n",
              "      <td>1.000000</td>\n",
              "      <td>0.000000</td>\n",
              "      <td>6.000000</td>\n",
              "      <td>1.414214</td>\n",
              "      <td>4.123106</td>\n",
              "      <td>5.385165</td>\n",
              "      <td>2.828427</td>\n",
              "      <td>3.000000</td>\n",
              "      <td>7.211103</td>\n",
              "      <td>4.000000</td>\n",
              "      <td>8.062258</td>\n",
              "      <td>9.433981</td>\n",
              "      <td>5.385165</td>\n",
              "    </tr>\n",
              "    <tr>\n",
              "      <th>C4</th>\n",
              "      <td>2.828427</td>\n",
              "      <td>4.472136</td>\n",
              "      <td>3.162278</td>\n",
              "      <td>6.082763</td>\n",
              "      <td>3.000000</td>\n",
              "      <td>5.000000</td>\n",
              "      <td>6.000000</td>\n",
              "      <td>0.000000</td>\n",
              "      <td>5.099020</td>\n",
              "      <td>2.236068</td>\n",
              "      <td>2.236068</td>\n",
              "      <td>4.472136</td>\n",
              "      <td>6.708204</td>\n",
              "      <td>4.000000</td>\n",
              "      <td>7.211103</td>\n",
              "      <td>4.123106</td>\n",
              "      <td>5.385165</td>\n",
              "      <td>6.403124</td>\n",
              "    </tr>\n",
              "    <tr>\n",
              "      <th>D1</th>\n",
              "      <td>4.242641</td>\n",
              "      <td>3.162278</td>\n",
              "      <td>2.828427</td>\n",
              "      <td>2.236068</td>\n",
              "      <td>2.236068</td>\n",
              "      <td>1.000000</td>\n",
              "      <td>1.414214</td>\n",
              "      <td>5.099020</td>\n",
              "      <td>0.000000</td>\n",
              "      <td>3.000000</td>\n",
              "      <td>4.123106</td>\n",
              "      <td>1.414214</td>\n",
              "      <td>2.236068</td>\n",
              "      <td>5.830952</td>\n",
              "      <td>3.162278</td>\n",
              "      <td>6.708204</td>\n",
              "      <td>8.062258</td>\n",
              "      <td>4.123106</td>\n",
              "    </tr>\n",
              "    <tr>\n",
              "      <th>D2</th>\n",
              "      <td>3.000000</td>\n",
              "      <td>3.605551</td>\n",
              "      <td>2.236068</td>\n",
              "      <td>4.472136</td>\n",
              "      <td>1.414214</td>\n",
              "      <td>3.162278</td>\n",
              "      <td>4.123106</td>\n",
              "      <td>2.236068</td>\n",
              "      <td>3.000000</td>\n",
              "      <td>0.000000</td>\n",
              "      <td>1.414214</td>\n",
              "      <td>2.236068</td>\n",
              "      <td>4.472136</td>\n",
              "      <td>3.605551</td>\n",
              "      <td>5.000000</td>\n",
              "      <td>4.242641</td>\n",
              "      <td>5.656854</td>\n",
              "      <td>4.472136</td>\n",
              "    </tr>\n",
              "    <tr>\n",
              "      <th>E1</th>\n",
              "      <td>4.123106</td>\n",
              "      <td>5.000000</td>\n",
              "      <td>3.605551</td>\n",
              "      <td>5.830952</td>\n",
              "      <td>2.828427</td>\n",
              "      <td>4.472136</td>\n",
              "      <td>5.385165</td>\n",
              "      <td>2.236068</td>\n",
              "      <td>4.123106</td>\n",
              "      <td>1.414214</td>\n",
              "      <td>0.000000</td>\n",
              "      <td>3.000000</td>\n",
              "      <td>5.099020</td>\n",
              "      <td>2.236068</td>\n",
              "      <td>5.385165</td>\n",
              "      <td>2.828427</td>\n",
              "      <td>4.242641</td>\n",
              "      <td>4.242641</td>\n",
              "    </tr>\n",
              "    <tr>\n",
              "      <th>E2</th>\n",
              "      <td>4.472136</td>\n",
              "      <td>4.000000</td>\n",
              "      <td>3.162278</td>\n",
              "      <td>3.605551</td>\n",
              "      <td>2.236068</td>\n",
              "      <td>2.236068</td>\n",
              "      <td>2.828427</td>\n",
              "      <td>4.472136</td>\n",
              "      <td>1.414214</td>\n",
              "      <td>2.236068</td>\n",
              "      <td>3.000000</td>\n",
              "      <td>0.000000</td>\n",
              "      <td>2.236068</td>\n",
              "      <td>4.472136</td>\n",
              "      <td>2.828427</td>\n",
              "      <td>5.385165</td>\n",
              "      <td>6.708204</td>\n",
              "      <td>3.000000</td>\n",
              "    </tr>\n",
              "    <tr>\n",
              "      <th>F1</th>\n",
              "      <td>6.403124</td>\n",
              "      <td>5.385165</td>\n",
              "      <td>5.000000</td>\n",
              "      <td>4.000000</td>\n",
              "      <td>4.242641</td>\n",
              "      <td>3.162278</td>\n",
              "      <td>3.000000</td>\n",
              "      <td>6.708204</td>\n",
              "      <td>2.236068</td>\n",
              "      <td>4.472136</td>\n",
              "      <td>5.099020</td>\n",
              "      <td>2.236068</td>\n",
              "      <td>0.000000</td>\n",
              "      <td>6.082763</td>\n",
              "      <td>1.000000</td>\n",
              "      <td>7.071068</td>\n",
              "      <td>8.246211</td>\n",
              "      <td>2.828427</td>\n",
              "    </tr>\n",
              "    <tr>\n",
              "      <th>G1</th>\n",
              "      <td>6.324555</td>\n",
              "      <td>7.211103</td>\n",
              "      <td>5.830952</td>\n",
              "      <td>7.810250</td>\n",
              "      <td>5.000000</td>\n",
              "      <td>6.403124</td>\n",
              "      <td>7.211103</td>\n",
              "      <td>4.000000</td>\n",
              "      <td>5.830952</td>\n",
              "      <td>3.605551</td>\n",
              "      <td>2.236068</td>\n",
              "      <td>4.472136</td>\n",
              "      <td>6.082763</td>\n",
              "      <td>0.000000</td>\n",
              "      <td>6.000000</td>\n",
              "      <td>1.000000</td>\n",
              "      <td>2.236068</td>\n",
              "      <td>4.123106</td>\n",
              "    </tr>\n",
              "    <tr>\n",
              "      <th>G2</th>\n",
              "      <td>7.211103</td>\n",
              "      <td>6.324555</td>\n",
              "      <td>5.830952</td>\n",
              "      <td>5.000000</td>\n",
              "      <td>5.000000</td>\n",
              "      <td>4.123106</td>\n",
              "      <td>4.000000</td>\n",
              "      <td>7.211103</td>\n",
              "      <td>3.162278</td>\n",
              "      <td>5.000000</td>\n",
              "      <td>5.385165</td>\n",
              "      <td>2.828427</td>\n",
              "      <td>1.000000</td>\n",
              "      <td>6.000000</td>\n",
              "      <td>0.000000</td>\n",
              "      <td>7.000000</td>\n",
              "      <td>8.062258</td>\n",
              "      <td>2.236068</td>\n",
              "    </tr>\n",
              "    <tr>\n",
              "      <th>G3</th>\n",
              "      <td>6.708204</td>\n",
              "      <td>7.810250</td>\n",
              "      <td>6.403124</td>\n",
              "      <td>8.602325</td>\n",
              "      <td>5.656854</td>\n",
              "      <td>7.211103</td>\n",
              "      <td>8.062258</td>\n",
              "      <td>4.123106</td>\n",
              "      <td>6.708204</td>\n",
              "      <td>4.242641</td>\n",
              "      <td>2.828427</td>\n",
              "      <td>5.385165</td>\n",
              "      <td>7.071068</td>\n",
              "      <td>1.000000</td>\n",
              "      <td>7.000000</td>\n",
              "      <td>0.000000</td>\n",
              "      <td>1.414214</td>\n",
              "      <td>5.099020</td>\n",
              "    </tr>\n",
              "    <tr>\n",
              "      <th>H1</th>\n",
              "      <td>8.062258</td>\n",
              "      <td>9.219544</td>\n",
              "      <td>7.810250</td>\n",
              "      <td>10.000000</td>\n",
              "      <td>7.071068</td>\n",
              "      <td>8.602325</td>\n",
              "      <td>9.433981</td>\n",
              "      <td>5.385165</td>\n",
              "      <td>8.062258</td>\n",
              "      <td>5.656854</td>\n",
              "      <td>4.242641</td>\n",
              "      <td>6.708204</td>\n",
              "      <td>8.246211</td>\n",
              "      <td>2.236068</td>\n",
              "      <td>8.062258</td>\n",
              "      <td>1.414214</td>\n",
              "      <td>0.000000</td>\n",
              "      <td>6.000000</td>\n",
              "    </tr>\n",
              "    <tr>\n",
              "      <th>H2</th>\n",
              "      <td>7.280110</td>\n",
              "      <td>7.000000</td>\n",
              "      <td>6.082763</td>\n",
              "      <td>6.324555</td>\n",
              "      <td>5.099020</td>\n",
              "      <td>5.099020</td>\n",
              "      <td>5.385165</td>\n",
              "      <td>6.403124</td>\n",
              "      <td>4.123106</td>\n",
              "      <td>4.472136</td>\n",
              "      <td>4.242641</td>\n",
              "      <td>3.000000</td>\n",
              "      <td>2.828427</td>\n",
              "      <td>4.123106</td>\n",
              "      <td>2.236068</td>\n",
              "      <td>5.099020</td>\n",
              "      <td>6.000000</td>\n",
              "      <td>0.000000</td>\n",
              "    </tr>\n",
              "  </tbody>\n",
              "</table>\n",
              "</div>"
            ],
            "text/plain": [
              "          A1        A2        B1  ...        G3         H1        H2\n",
              "A1  0.000000  2.000000  1.414214  ...  6.708204   8.062258  7.280110\n",
              "A2  2.000000  0.000000  1.414214  ...  7.810250   9.219544  7.000000\n",
              "B1  1.414214  1.414214  0.000000  ...  6.403124   7.810250  6.082763\n",
              "B2  4.123106  2.236068  3.000000  ...  8.602325  10.000000  6.324555\n",
              "C1  2.236068  2.236068  1.000000  ...  5.656854   7.071068  5.099020\n",
              "C2  3.605551  2.236068  2.236068  ...  7.211103   8.602325  5.099020\n",
              "C3  4.472136  2.828427  3.162278  ...  8.062258   9.433981  5.385165\n",
              "C4  2.828427  4.472136  3.162278  ...  4.123106   5.385165  6.403124\n",
              "D1  4.242641  3.162278  2.828427  ...  6.708204   8.062258  4.123106\n",
              "D2  3.000000  3.605551  2.236068  ...  4.242641   5.656854  4.472136\n",
              "E1  4.123106  5.000000  3.605551  ...  2.828427   4.242641  4.242641\n",
              "E2  4.472136  4.000000  3.162278  ...  5.385165   6.708204  3.000000\n",
              "F1  6.403124  5.385165  5.000000  ...  7.071068   8.246211  2.828427\n",
              "G1  6.324555  7.211103  5.830952  ...  1.000000   2.236068  4.123106\n",
              "G2  7.211103  6.324555  5.830952  ...  7.000000   8.062258  2.236068\n",
              "G3  6.708204  7.810250  6.403124  ...  0.000000   1.414214  5.099020\n",
              "H1  8.062258  9.219544  7.810250  ...  1.414214   0.000000  6.000000\n",
              "H2  7.280110  7.000000  6.082763  ...  5.099020   6.000000  0.000000\n",
              "\n",
              "[18 rows x 18 columns]"
            ]
          },
          "metadata": {},
          "execution_count": 3
        }
      ]
    },
    {
      "cell_type": "markdown",
      "metadata": {
        "id": "vw_ijFBX_UKG"
      },
      "source": [
        "**Look for the least distance and merge those into a cluster**"
      ]
    },
    {
      "cell_type": "code",
      "metadata": {
        "colab": {
          "base_uri": "https://localhost:8080/",
          "height": 339
        },
        "id": "4nELCXHW_XgV",
        "outputId": "f9cf4354-eef9-469a-c4c4-32dd44f0f29d"
      },
      "source": [
        "plt.figure(figsize=(12,5)) \n",
        "plt.title(\"Dendrogram with Single inkage\")  \n",
        "dend = shc.dendrogram(shc.linkage(data[['PopularTimes', 'HotBeverages']], method='single'), labels=data.index)"
      ],
      "execution_count": 4,
      "outputs": [
        {
          "output_type": "display_data",
          "data": {
            "image/png": "[encoded data removed]",
            "text/plain": [
              "<Figure size 864x360 with 1 Axes>"
            ]
          },
          "metadata": {
            "needs_background": "light"
          }
        }
      ]
    },
    {
      "cell_type": "code",
      "metadata": {
        "colab": {
          "base_uri": "https://localhost:8080/",
          "height": 339
        },
        "id": "DtAtRoonPMcT",
        "outputId": "76f6dc67-6bed-4b30-c010-a84f749c6671"
      },
      "source": [
        "plt.figure(figsize=(12,5)) \n",
        "plt.title(\"Dendrogram with average inkage\")  \n",
        "dend = shc.dendrogram(shc.linkage(data[['PopularTimes', 'HotBeverages']], method='average'), labels=data.index)"
      ],
      "execution_count": 5,
      "outputs": [
        {
          "output_type": "display_data",
          "data": {
            "image/png": "[encoded data removed]",
            "text/plain": [
              "<Figure size 864x360 with 1 Axes>"
            ]
          },
          "metadata": {
            "needs_background": "light"
          }
        }
      ]
    },
    {
      "cell_type": "code",
      "metadata": {
        "colab": {
          "base_uri": "https://localhost:8080/",
          "height": 339
        },
        "id": "CBEVm6V0PWNg",
        "outputId": "ca03a4cf-f694-4928-e09b-ca3da2ffc937"
      },
      "source": [
        "plt.figure(figsize=(12,5)) \n",
        "plt.title(\"Dendrogram with complete inkage\")  \n",
        "dend = shc.dendrogram(shc.linkage(data[['PopularTimes', 'HotBeverages']], method='complete'), labels=data.index)"
      ],
      "execution_count": 6,
      "outputs": [
        {
          "output_type": "display_data",
          "data": {
            "image/png": "[encoded data removed]",
            "text/plain": [
              "<Figure size 864x360 with 1 Axes>"
            ]
          },
          "metadata": {
            "needs_background": "light"
          }
        }
      ]
    },
    {
      "cell_type": "code",
      "metadata": {
        "colab": {
          "base_uri": "https://localhost:8080/",
          "height": 511
        },
        "id": "NIq8bdT8I1Uu",
        "outputId": "2f066491-bd13-42f9-b49d-841a885dc986"
      },
      "source": [
        "cluster1=AgglomerativeClustering(n_clusters=3, affinity='euclidean', linkage='single')\n",
        "print(cluster1.fit_predict(data))\n",
        "print(cluster1.fit(data))\n",
        "labels = cluster1.labels_\n",
        "plt.figure(figsize=(10, 7)) \n",
        "plt.scatter(data['PopularTimes'], data['HotBeverages'], c=labels, s=80, cmap ='rainbow')\n",
        "plt.xlabel('PTIndex')\n",
        "plt.ylabel('HBIndex')\n",
        "for j in data.itertuples():\n",
        "    plt.annotate(j.Index, (j.PopularTimes, j.HotBeverages), fontsize=10)\n",
        "\n",
        "plt.show()\n"
      ],
      "execution_count": 7,
      "outputs": [
        {
          "output_type": "stream",
          "name": "stdout",
          "text": [
            "[0 0 0 0 0 0 0 0 0 0 0 0 0 2 0 2 2 1]\n",
            "AgglomerativeClustering(affinity='euclidean', compute_full_tree='auto',\n",
            "                        connectivity=None, distance_threshold=None,\n",
            "                        linkage='single', memory=None, n_clusters=3)\n"
          ]
        },
        {
          "output_type": "display_data",
          "data": {
            "image/png": "[encoded data removed]",
            "text/plain": [
              "<Figure size 720x504 with 1 Axes>"
            ]
          },
          "metadata": {
            "needs_background": "light"
          }
        }
      ]
    },
    {
      "cell_type": "code",
      "metadata": {
        "colab": {
          "base_uri": "https://localhost:8080/",
          "height": 511
        },
        "id": "Fg7P0HFUU8Fq",
        "outputId": "4ede69fd-a38b-48fe-e2b3-66a854a7830c"
      },
      "source": [
        "cluster2 = AgglomerativeClustering(n_clusters=3, affinity='euclidean', linkage='average') \n",
        "print(cluster2.fit_predict(data))\n",
        "print(cluster2.fit(data))\n",
        "plt.figure(figsize=(10, 7))  \n",
        "plt.scatter(data['PopularTimes'], data['HotBeverages'], c=cluster2.labels_, s= 80, cmap='rainbow')  \n",
        "plt.xlabel('PTIndex')\n",
        "plt.ylabel('HBIndex')\n",
        "plt.show() "
      ],
      "execution_count": 8,
      "outputs": [
        {
          "output_type": "stream",
          "name": "stdout",
          "text": [
            "[0 0 0 0 0 0 0 0 0 0 0 0 2 1 2 1 1 2]\n",
            "AgglomerativeClustering(affinity='euclidean', compute_full_tree='auto',\n",
            "                        connectivity=None, distance_threshold=None,\n",
            "                        linkage='average', memory=None, n_clusters=3)\n"
          ]
        },
        {
          "output_type": "display_data",
          "data": {
            "image/png": "[encoded data removed]",
            "text/plain": [
              "<Figure size 720x504 with 1 Axes>"
            ]
          },
          "metadata": {
            "needs_background": "light"
          }
        }
      ]
    },
    {
      "cell_type": "code",
      "metadata": {
        "colab": {
          "base_uri": "https://localhost:8080/",
          "height": 511
        },
        "id": "FhlFcwAGWiZe",
        "outputId": "e8303c12-962b-4e00-92f5-6abda48f2a81"
      },
      "source": [
        "cluster3 = AgglomerativeClustering(n_clusters=3, affinity='euclidean', linkage='complete') \n",
        "print(cluster3.fit_predict(data))\n",
        "print(cluster3.fit(data))\n",
        "plt.figure(figsize=(10, 7))  \n",
        "plt.scatter(data['PopularTimes'], data['HotBeverages'],c=cluster3.labels_, s=80, cmap='rainbow')  \n",
        "plt.xlabel('PTIndex')\n",
        "plt.ylabel('HBIndex')\n",
        "plt.show() "
      ],
      "execution_count": 9,
      "outputs": [
        {
          "output_type": "stream",
          "name": "stdout",
          "text": [
            "[1 1 1 1 1 1 1 0 1 0 0 2 2 0 2 0 0 2]\n",
            "AgglomerativeClustering(affinity='euclidean', compute_full_tree='auto',\n",
            "                        connectivity=None, distance_threshold=None,\n",
            "                        linkage='complete', memory=None, n_clusters=3)\n"
          ]
        },
        {
          "output_type": "display_data",
          "data": {
            "image/png": "[encoded data removed]",
            "text/plain": [
              "<Figure size 720x504 with 1 Axes>"
            ]
          },
          "metadata": {
            "needs_background": "light"
          }
        }
      ]
    },
    {
      "cell_type": "code",
      "metadata": {
        "colab": {
          "base_uri": "https://localhost:8080/",
          "height": 288
        },
        "id": "BxPqMPWaXhNB",
        "outputId": "62cbbbda-e773-47b1-8a02-eaf248688ed2"
      },
      "source": [
        "from sklearn.metrics import silhouette_score\n",
        "\n",
        "c = ['single', 'average', 'complete']\n",
        "silhouette_scores = []\n",
        "silhouette_scores.append(\n",
        "        silhouette_score(data, cluster1.fit_predict(data)))\n",
        "silhouette_scores.append(\n",
        "        silhouette_score(data, cluster2.fit_predict(data)))\n",
        "silhouette_scores.append(\n",
        "        silhouette_score(data, cluster3.fit_predict(data)))\n",
        "\n",
        "silhouette_scores\n",
        "# # Plotting a bar graph to compare the results\n",
        "plt.bar(c, silhouette_scores)\n",
        "plt.xlabel('different linkage clusters', fontsize = 20)\n",
        "plt.ylabel('S(i)', fontsize = 20)\n",
        "plt.show()"
      ],
      "execution_count": 10,
      "outputs": [
        {
          "output_type": "display_data",
          "data": {
            "image/png": "[encoded data removed]",
            "text/plain": [
              "<Figure size 432x288 with 1 Axes>"
            ]
          },
          "metadata": {
            "needs_background": "light"
          }
        }
      ]
    }
  ]
}